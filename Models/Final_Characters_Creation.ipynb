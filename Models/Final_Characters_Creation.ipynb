{
 "cells": [
  {
   "cell_type": "code",
   "execution_count": 0,
   "metadata": {
    "id": "N5jb3XBhL_Yh",
    "colab_type": "code",
    "colab": {}
   },
   "outputs": [],
   "source": [
    "import docx\n",
    "from docx.shared import Pt\n",
    "from docx import Document\n",
    "import sys \n",
    "from pdf2image import convert_from_path\n",
    "import os \n",
    "import comtypes.client \n",
    "from docx.enum.text import WD_ALIGN_PARAGRAPH"
   ]
  },
  {
   "cell_type": "code",
   "execution_count": 0,
   "metadata": {
    "id": "D_HVZbS9L_Yk",
    "colab_type": "code",
    "colab": {}
   },
   "outputs": [],
   "source": [
    "GLOBAL_PATH_TO_NOTEBOOK = \"C://Users//victor//Desktop//Cornell//spring//Deep_Learning//Project//\""
   ]
  },
  {
   "cell_type": "code",
   "execution_count": 0,
   "metadata": {
    "id": "LAW96bLHL_Yn",
    "colab_type": "code",
    "colab": {}
   },
   "outputs": [],
   "source": [
    "alphabets = {'english' : 'anikvopuxw',\n",
    "             'greek' :   'αηικνορυχω'}"
   ]
  },
  {
   "cell_type": "code",
   "execution_count": 0,
   "metadata": {
    "id": "bUzyiUKHL_Yp",
    "colab_type": "code",
    "colab": {}
   },
   "outputs": [],
   "source": [
    "fonts = ['Calibri', 'Algerian', 'Arial Black', 'Arial Narrow', 'Bahnschrift', \n",
    "         'Bahnschrift Condensed', 'Bahnschrift Light', 'Cambria', 'Bodoni MT Poster Compressed', 'Chiller',\n",
    "         'Consolas', 'Calibri Light', 'Century', 'Century Gothic', 'Courier New',\n",
    "         'Franklin Gothic Book', 'Yu Gothic UI Semilight', 'Verdana', 'Trebuchet MS', 'Sitka Text']"
   ]
  },
  {
   "cell_type": "code",
   "execution_count": 0,
   "metadata": {
    "id": "tDgvUfXcL_Yr",
    "colab_type": "code",
    "colab": {}
   },
   "outputs": [],
   "source": [
    "def alphabet_to_docs(alphabet_key, selected_font):\n",
    "    local_path = alphabet_key.replace(\" \", \"_\") + '//' + selected_font.replace(\" \", \"_\")\n",
    "    os.makedirs(GLOBAL_PATH_TO_NOTEBOOK + local_path)\n",
    "    for num, letter in enumerate(alphabets[alphabet_key]):\n",
    "        document = Document()\n",
    "        style = document.styles['Normal']\n",
    "        font = style.font\n",
    "        font.name = selected_font\n",
    "        font.size = docx.shared.Pt(600)\n",
    "        paragraph = document.add_paragraph(letter)\n",
    "        paragraph.alignment = WD_ALIGN_PARAGRAPH.CENTER\n",
    "        document.save(local_path + '//' + str(num) + '.docx')"
   ]
  },
  {
   "cell_type": "code",
   "execution_count": 0,
   "metadata": {
    "id": "8HtpBrZnL_Yu",
    "colab_type": "code",
    "colab": {}
   },
   "outputs": [],
   "source": [
    "def doc_to_pdf(local_directory):\n",
    "    wdFormatPDF = 17 \n",
    "    word = comtypes.client.CreateObject('Word.Application')\n",
    "    filenames = os.listdir(GLOBAL_PATH_TO_NOTEBOOK + local_directory)\n",
    "    for filename in filenames:\n",
    "        in_file = GLOBAL_PATH_TO_NOTEBOOK + local_directory + filename\n",
    "        out_file = GLOBAL_PATH_TO_NOTEBOOK + local_directory  + filename.replace(\".docx\", \"\")\n",
    "        doc = word.Documents.Open(in_file) \n",
    "        doc.SaveAs(out_file, FileFormat=wdFormatPDF) \n",
    "        doc.Close() \n",
    "        os.remove(GLOBAL_PATH_TO_NOTEBOOK + local_directory + filename)\n",
    "    word.Quit()"
   ]
  },
  {
   "cell_type": "code",
   "execution_count": 0,
   "metadata": {
    "id": "tIwzYhzOL_Yw",
    "colab_type": "code",
    "colab": {}
   },
   "outputs": [],
   "source": [
    "def pdf_to_jpeg(local_directory):\n",
    "    filenames = os.listdir(GLOBAL_PATH_TO_NOTEBOOK + local_directory)\n",
    "    for filename in filenames:\n",
    "        pages = convert_from_path(local_directory + filename, 500)\n",
    "        for page in pages:\n",
    "            filename = filename.replace(\".pdf\", \"\")\n",
    "            page.save(GLOBAL_PATH_TO_NOTEBOOK + local_directory + local_directory.split('//')[0] + '_' + local_directory.split('//')[1] + '_' + filename + '.jpg', 'JPEG')\n",
    "        os.remove(GLOBAL_PATH_TO_NOTEBOOK + local_directory + filename + '.pdf')"
   ]
  },
  {
   "cell_type": "code",
   "execution_count": 0,
   "metadata": {
    "id": "Z4cy9nO0L_Yy",
    "colab_type": "code",
    "colab": {}
   },
   "outputs": [],
   "source": [
    "for alphabet_key in alphabets:\n",
    "    for selected_font in fonts:\n",
    "        alphabet_to_docs(alphabet_key, selected_font)\n",
    "        local_directory = alphabet_key + '//' + selected_font.replace(\" \", \"_\") + '//'\n",
    "        doc_to_pdf(local_directory)\n",
    "        pdf_to_jpeg(local_directory)"
   ]
  },
  {
   "cell_type": "code",
   "execution_count": 0,
   "metadata": {
    "id": "3FAmQsrEL_Y0",
    "colab_type": "code",
    "colab": {}
   },
   "outputs": [],
   "source": [
    "'''\n",
    "alphabet_to_docs(alphabets, fonts)\n",
    "doc_to_pdf('english//MS_Gothic//')\n",
    "pdf_to_jpeg('english//MS_Gothic//')\n",
    "'''"
   ]
  }
 ],
 "metadata": {
  "colab": {
   "name": "Final_Characters_Creation.ipynb",
   "version": "0.3.2",
   "provenance": []
  },
  "language_info": {
   "codemirror_mode": {
    "name": "ipython",
    "version": 3
   },
   "file_extension": ".py",
   "mimetype": "text/x-python",
   "name": "python",
   "nbconvert_exporter": "python",
   "pygments_lexer": "ipython3",
   "version": "3.7.1"
  },
  "kernelspec": {
   "display_name": "Python 3",
   "language": "python",
   "name": "python3"
  }
 },
 "nbformat": 4,
 "nbformat_minor": 0
}
